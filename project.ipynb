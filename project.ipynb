{
 "cells": [
  {
   "cell_type": "markdown",
   "id": "0b9481ae",
   "metadata": {},
   "source": [
    "# Goodreads\n",
    "Progetto per il corso di Big Data, anno accademico 2021/22<br>\n",
    "<br>\n",
    "**Autore**: Yuqi Sun<br>\n",
    "yuqi.sun@studio.unibo.it<br>\n",
    "1005091\n",
    "\n",
    "**Fonte**:<br>\n",
    "*Mengting Wan*, *Julian McAuley*, \"Item Recommendation on Monotonic Behavior Chains\" (RecSys'18) <br>\n",
    "*Mengting Wan*, *Rishabh Misra*, *Ndapa Nakashole*, *Julian McAuley*, \"Fine-Grained Spoiler Detection from Large-Scale Review Corpora\" (ACL'19)"
   ]
  },
  {
   "cell_type": "markdown",
   "id": "db4a96d9",
   "metadata": {},
   "source": [
    "## Descrizione del dataset\n",
    "I dataset usati in questo progetto sono stati ottenuti dal seguente [sito](https://sites.google.com/eng.ucsd.edu/ucsdbookgraph) e memorizzano le informazioni riguardanti:\n",
    "- i libri e le serie;\n",
    "- gli autori;\n",
    "- le interazioni tra utenti e libri.\n",
    "\n",
    "Poiché il dataset riguardanti i libri e gli autori era in formato JSON, questi sono stati convertiti in JSON, risultando in un totale di circa 6GB di dati.\n",
    "\n",
    "### Libri\n",
    "Il file *goodreads_books.csv* contiene i seguenti dati:\n",
    "- `book_id`: l'id del libro;\n",
    "- `work_id`: l'id dell'edizione del libro;\n",
    "- `title`: titolo del libro;\n",
    "- `title_without_series`: titolo del libro senza il nome della serie;\n",
    "- `description`: descrizione del libro;\n",
    "- `series`: eventuale id della serie a cui appartiene il libro;\n",
    "- `ratings_count`: numero di giudizi ottenuti;\n",
    "- `average_rating`: giudizio medio;\n",
    "- `similar_books`: lista di id dei libri simili;\n",
    "- `country_code`: nazione del libro in codice (US, IT etc...);\n",
    "- `language_code`: linguaggio del libro in codice (eng, ita...;\n",
    "- `edition_information`: informazioni riguardanti l'edizione (Modern Library Classics, Penguin Classics...);\n",
    "- `format`: formato dell'edizione (hardcover, paperback, kindle...);\n",
    "- `is_ebook`: booleano indicante se è un ebook o meno;\n",
    "- `num_pages`: numeor di pagine;\n",
    "- `publication_day`: giorno di pubblicazione;\n",
    "- `publication_month`: mese di pubblicazione;\n",
    "- `publication_year`: anno di pubblicazione;\n",
    "- `publisher`: casa editrice;\n",
    "- `text_reviews_count`: numero di recensioni scritte.\n",
    "\n",
    "Poiché in origine nel file JSON l'autore del libro era un array formato da due valori {`author_id`, `role`}, per semplicità è stato generato un ulteriore file *book_author_map.csv* che mappa da `book_id` a `author_id`, effettuando un'esplosione della struttura dati e selezionando solo l'id.\n",
    "\n",
    "### Serie\n",
    "Il file *goodreads_book_series.csv* contiene i seguenti campi:\n",
    "- `series_id`: id della serie;\n",
    "- `title`: titolo della serie;\n",
    "- `description`: descrizione della serie;\n",
    "- `note`: note;\n",
    "- `numbered`: indica se la serie è numerata o meno;\n",
    "- `primary_work_count`: numero di libri contenuti nella serie;\n",
    "- `series_works_count`: numero totale di libri contenuti nella seria.\n",
    "\n",
    "In `series_works_count` vengono inclusi anche eventuali edizioni speciali, prequels, spin-off etc. Ad esempio, la serie *Harry Potter* è composta da 7 libri principali, ma ha 18 libri in totale in quanto *Goodreads* include il libro prequel, la versione teatrale e varie collezioni speciali.\n",
    "\n",
    "### Autori\n",
    "Il file *goodreads_book_authors.csv* contiene i seguenti campi:\n",
    "- `author_id`: l'id dell'autore;\n",
    "- `name`: nome dell'autore\n",
    "- `average_rating`: giudizio medio dei libri;\n",
    "- `ratings_count`: numero di giudizi ricevuti\n",
    "- `text_reviews_count`: numero di recensioni ricevute.\n",
    "\n",
    "### User-Book Interactions\n",
    "Il file *goodreads_interactions.csv* contiene i seguenti campi:\n",
    "- `user_id`: l'id dell'utente;\n",
    "- `book_id`: l'id del libro;\n",
    "- `is_read`: valore booleano; indica se il libro è stato letto o meno;\n",
    "- `rating`: il giudizio dato dall'utente, compreso tra 0-5;\n",
    "- `is_reviewed`: valore booleano; indica se l'utente ha lasciato una recensione o meno.\n",
    "\n",
    "Poiché il file CSV originale non usa gli stessi `book_id` usati nel file *goodreads_books.csv* è stato caricato anche il file *book_id_map.csv*, che mappa da `book_id` delle interazioni al `book_id` dei libri."
   ]
  },
  {
   "cell_type": "markdown",
   "id": "f56a666b",
   "metadata": {},
   "source": [
    "## Preparazione dei dati\n",
    "\n",
    "Si configura il kernel Spark e si definiscono i percorsi dei vari file salvati sul servizio \"Amazon S3\", avviando così una nuova applicazione Spark."
   ]
  },
  {
   "cell_type": "code",
   "execution_count": null,
   "id": "ab90f772",
   "metadata": {},
   "outputs": [],
   "source": [
    "%%configure -f\n",
    "{\n",
    "    \"executorMemory\": \"8G\", \n",
    "    \"numExecutors\": 2, \n",
    "    \"executorCores\": 3, \n",
    "    \"conf\": {\n",
    "        \"spark.dynamicAllocation.enabled\": \"false\"\n",
    "    }\n",
    "}"
   ]
  },
  {
   "cell_type": "code",
   "execution_count": null,
   "id": "7dc62aec",
   "metadata": {},
   "outputs": [],
   "source": [
    "val bucketName = \"unibo-bd2122-ysun/goodread\"\n",
    "\n",
    "val pathBookDataset = s\"s3a://$bucketName/goodreads_books.csv\"\n",
    "val pathSeriesDataset = s\"s3a://$bucketName/goodreads_book_series.csv\"\n",
    "val pathAuthorsDataset = s\"s3a://$bucketName/goodreads_book_authors.csv\"\n",
    "val pathInteractionsDataset = s\"s3a://$bucketName/goodreads_interactions.csv\"\n",
    "val pathBookIdMapDataset = s\"s3a://$bucketName/book_id_map.csv\"\n",
    "val pathBookAuthorMapDataset = s\"s3a://$bucketName/book_author_map.csv\"\n",
    "\n",
    "\"SPARK UI: Enable forwarding of port 20888 and connect to http://localhost:20888/proxy/\" + sc.applicationId + \"/\""
   ]
  },
  {
   "cell_type": "code",
   "execution_count": null,
   "id": "e0824543",
   "metadata": {},
   "outputs": [],
   "source": []
  }
 ],
 "metadata": {
  "kernelspec": {
   "display_name": "Spark",
   "language": "scala",
   "name": "sparkkernel"
  },
  "language_info": {
   "codemirror_mode": "text/x-scala",
   "file_extension": ".sc",
   "mimetype": "text/x-scala",
   "name": "scala",
   "pygments_lexer": "scala"
  }
 },
 "nbformat": 4,
 "nbformat_minor": 5
}
